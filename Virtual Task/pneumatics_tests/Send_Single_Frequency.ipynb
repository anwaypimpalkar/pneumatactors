{
 "cells": [
  {
   "cell_type": "code",
   "execution_count": null,
   "metadata": {},
   "outputs": [
    {
     "name": "stdout",
     "output_type": "stream",
     "text": [
      "Bitrate set to 400 kHz\n",
      "Partial write. Expected 1 bytes, wrote 0 bytes.\n"
     ]
    }
   ],
   "source": [
    "import platform\n",
    "if platform.system() == \"Darwin\":  # macOS\n",
    "    from aardvark_api_mac.python.aardvark_py import *\n",
    "elif platform.system() == \"Windows\":\n",
    "    from aardvark_api_windows.python.aardvark_py import *\n",
    "else:\n",
    "    raise RuntimeError(\"Need to download OS-specific Aardvark API.\")\n",
    "\n",
    "# Constants\n",
    "I2C_BITRATE = 400  # I2C bitrate in kHz\n",
    "DEVICE_ADDRESS = 0x30  # I2C address\n",
    "\n",
    "\n",
    "# Function to send a number to a specific I2C address\n",
    "def send_number_to_address(number):\n",
    "    # Open the Aardvark device\n",
    "    aardvark_handle = aa_open(0)\n",
    "    if aardvark_handle <= 0:\n",
    "        print(f\"Unable to open Aardvark device. Error code: {aardvark_handle}\")\n",
    "        return\n",
    "\n",
    "    # Configure the device as an I2C master\n",
    "    aa_configure(aardvark_handle, AA_CONFIG_SPI_I2C)\n",
    "\n",
    "    # Set the bitrate\n",
    "    bitrate = aa_i2c_bitrate(aardvark_handle, I2C_BITRATE)\n",
    "    print(f\"Bitrate set to {bitrate} kHz\")\n",
    "\n",
    "    # Enable the I2C bus pullups\n",
    "    aa_i2c_pullup(aardvark_handle, AA_I2C_PULLUP_BOTH)\n",
    "\n",
    "    # Prepare the data to send\n",
    "    data = array(\"B\", [number])  # Ensure the data is in the correct format\n",
    "\n",
    "    # Write the data to the I2C device\n",
    "    num_written = aa_i2c_write(aardvark_handle, DEVICE_ADDRESS, AA_I2C_NO_FLAGS, data)\n",
    "\n",
    "    if num_written < 0:\n",
    "        print(f\"Error writing to the device. Error code: {num_written}\")\n",
    "    elif num_written != len(data):\n",
    "        print(f\"Partial write. Expected {len(data)} bytes, wrote {num_written} bytes.\")\n",
    "    else:\n",
    "        print(f\"Successfully sent {data.tolist()} to address {hex(DEVICE_ADDRESS)}\")\n",
    "\n",
    "    # Close the Aardvark device\n",
    "    aa_close(aardvark_handle)\n",
    "\n",
    "\n",
    "# Example usage\n",
    "if __name__ == \"__main__\":\n",
    "    number_to_send = 1  # Replace with the number you want to send\n",
    "    send_number_to_address(number_to_send)"
   ]
  }
 ],
 "metadata": {
  "kernelspec": {
   "display_name": "pneumatactors",
   "language": "python",
   "name": "python3"
  },
  "language_info": {
   "codemirror_mode": {
    "name": "ipython",
    "version": 3
   },
   "file_extension": ".py",
   "mimetype": "text/x-python",
   "name": "python",
   "nbconvert_exporter": "python",
   "pygments_lexer": "ipython3",
   "version": "3.12.9"
  }
 },
 "nbformat": 4,
 "nbformat_minor": 2
}
