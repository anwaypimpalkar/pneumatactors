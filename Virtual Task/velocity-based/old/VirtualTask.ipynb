{
 "cells": [
  {
   "cell_type": "code",
   "execution_count": null,
   "metadata": {},
   "outputs": [
    {
     "name": "stdout",
     "output_type": "stream",
     "text": [
      "Version = 4.1 Metal - 88\n",
      "Vendor = Apple\n",
      "Renderer = Apple M2 Pro\n",
      "b3Printf: Selected demo: Physics Server\n",
      "startThreads creating 1 threads.\n",
      "starting thread 0\n",
      "started thread 0 \n",
      "MotionThreadFunc thread started\n",
      "b3Printf: b3Warning[examples/Importers/ImportURDFDemo/BulletUrdfImporter.cpp,152]:\n",
      "\n",
      "b3Printf: URDF file 'plane.urdf' not found\n",
      "\n"
     ]
    },
    {
     "ename": "error",
     "evalue": "Cannot load URDF file.",
     "output_type": "error",
     "traceback": [
      "\u001b[0;31m---------------------------------------------------------------------------\u001b[0m",
      "\u001b[0;31merror\u001b[0m                                     Traceback (most recent call last)",
      "Cell \u001b[0;32mIn[3], line 12\u001b[0m\n\u001b[1;32m      9\u001b[0m p\u001b[38;5;241m.\u001b[39msetGravity(\u001b[38;5;241m0\u001b[39m, \u001b[38;5;241m0\u001b[39m, \u001b[38;5;241m-\u001b[39m\u001b[38;5;241m9.81\u001b[39m)  \u001b[38;5;66;03m# Gravity in the z-direction\u001b[39;00m\n\u001b[1;32m     11\u001b[0m \u001b[38;5;66;03m# Load a plane for the environment\u001b[39;00m\n\u001b[0;32m---> 12\u001b[0m plane_id \u001b[38;5;241m=\u001b[39m \u001b[43mp\u001b[49m\u001b[38;5;241;43m.\u001b[39;49m\u001b[43mloadURDF\u001b[49m\u001b[43m(\u001b[49m\u001b[38;5;124;43m\"\u001b[39;49m\u001b[38;5;124;43mplane.urdf\u001b[39;49m\u001b[38;5;124;43m\"\u001b[39;49m\u001b[43m)\u001b[49m\n\u001b[1;32m     14\u001b[0m \u001b[38;5;66;03m# Load the blocks (grippers)\u001b[39;00m\n\u001b[1;32m     15\u001b[0m block1_id \u001b[38;5;241m=\u001b[39m p\u001b[38;5;241m.\u001b[39mloadURDF(\n\u001b[1;32m     16\u001b[0m     \u001b[38;5;124m\"\u001b[39m\u001b[38;5;124mblock.urdf\u001b[39m\u001b[38;5;124m\"\u001b[39m, basePosition\u001b[38;5;241m=\u001b[39m[\u001b[38;5;241m-\u001b[39m\u001b[38;5;241m0.5\u001b[39m, \u001b[38;5;241m0\u001b[39m, \u001b[38;5;241m0.1\u001b[39m], baseOrientation\u001b[38;5;241m=\u001b[39m[\u001b[38;5;241m0\u001b[39m, \u001b[38;5;241m0\u001b[39m, \u001b[38;5;241m0\u001b[39m, \u001b[38;5;241m1\u001b[39m]\n\u001b[1;32m     17\u001b[0m )\n",
      "\u001b[0;31merror\u001b[0m: Cannot load URDF file."
     ]
    },
    {
     "ename": "",
     "evalue": "",
     "output_type": "error",
     "traceback": [
      "\u001b[1;31mThe Kernel crashed while executing code in the current cell or a previous cell. \n",
      "\u001b[1;31mPlease review the code in the cell(s) to identify a possible cause of the failure. \n",
      "\u001b[1;31mClick <a href='https://aka.ms/vscodeJupyterKernelCrash'>here</a> for more info. \n",
      "\u001b[1;31mView Jupyter <a href='command:jupyter.viewOutput'>log</a> for further details."
     ]
    }
   ],
   "source": [
    "import pybullet as p\n",
    "import time\n",
    "import numpy as np\n",
    "\n",
    "# Initialize the PyBullet physics server in GUI mode\n",
    "p.connect(p.GUI)\n",
    "\n",
    "# Set up the environment (plane, blocks, and sphere)\n",
    "p.setGravity(0, 0, -9.81)  # Gravity in the z-direction\n",
    "\n",
    "# Load a plane for the environment\n",
    "plane_id = p.loadURDF(\"plane.urdf\")\n",
    "\n",
    "# Load the blocks (grippers)\n",
    "block1_id = p.loadURDF(\n",
    "    \"block.urdf\", basePosition=[-0.5, 0, 0.1], baseOrientation=[0, 0, 0, 1]\n",
    ")\n",
    "block2_id = p.loadURDF(\n",
    "    \"block.urdf\", basePosition=[0.5, 0, 0.1], baseOrientation=[0, 0, 0, 1]\n",
    ")\n",
    "\n",
    "# Load the sphere\n",
    "sphere_id = p.loadURDF(\"sphere2.urdf\", basePosition=[0, 0, 1])\n",
    "\n",
    "# Gripper parameters\n",
    "gripper_force_threshold = 20  # Force threshold to keep sphere from dropping\n",
    "gripper_hold_duration = 10  # Time in seconds to hold the sphere for success\n",
    "force_applied = False\n",
    "force_start_time = None\n",
    "\n",
    "# Set up the simulation loop\n",
    "while True:\n",
    "    # Get the positions of the blocks\n",
    "    block1_pos, _ = p.getBasePositionAndOrientation(block1_id)\n",
    "    block2_pos, _ = p.getBasePositionAndOrientation(block2_id)\n",
    "\n",
    "    # Calculate the distance between the sphere and the grippers\n",
    "    sphere_pos, _ = p.getBasePositionAndOrientation(sphere_id)\n",
    "    distance_to_block1 = np.linalg.norm(np.array(sphere_pos) - np.array(block1_pos))\n",
    "    distance_to_block2 = np.linalg.norm(np.array(sphere_pos) - np.array(block2_pos))\n",
    "\n",
    "    # Check if both grippers are close to the sphere (threshold distance)\n",
    "    if distance_to_block1 < 0.2 and distance_to_block2 < 0.2:\n",
    "        # Apply a holding force on the sphere\n",
    "        p.setJointMotorControl2(\n",
    "            block1_id, 0, p.VELOCITY_CONTROL, force=gripper_force_threshold\n",
    "        )\n",
    "        p.setJointMotorControl2(\n",
    "            block2_id, 0, p.VELOCITY_CONTROL, force=gripper_force_threshold\n",
    "        )\n",
    "\n",
    "        # Check if the correct force is applied for 10 seconds\n",
    "        if not force_applied:\n",
    "            force_start_time = time.time()\n",
    "            force_applied = True\n",
    "    else:\n",
    "        # Release the sphere if it's not held\n",
    "        p.setJointMotorControl2(block1_id, 0, p.VELOCITY_CONTROL, force=0)\n",
    "        p.setJointMotorControl2(block2_id, 0, p.VELOCITY_CONTROL, force=0)\n",
    "\n",
    "    # Check if the correct force is applied for 10 seconds\n",
    "    if force_applied and time.time() - force_start_time > gripper_hold_duration:\n",
    "        print(\"Success! Sphere held for 10 seconds.\")\n",
    "        break\n",
    "\n",
    "    # Simulate the physics step\n",
    "    p.stepSimulation()\n",
    "\n",
    "    # Sleep to make the simulation run at a reasonable speed\n",
    "    time.sleep(1.0 / 240.0)\n",
    "\n",
    "# Disconnect the physics server\n",
    "p.disconnect()"
   ]
  },
  {
   "cell_type": "code",
   "execution_count": null,
   "metadata": {},
   "outputs": [],
   "source": []
  }
 ],
 "metadata": {
  "kernelspec": {
   "display_name": "pneumatactor_task",
   "language": "python",
   "name": "python3"
  },
  "language_info": {
   "codemirror_mode": {
    "name": "ipython",
    "version": 3
   },
   "file_extension": ".py",
   "mimetype": "text/x-python",
   "name": "python",
   "nbconvert_exporter": "python",
   "pygments_lexer": "ipython3",
   "version": "3.11.11"
  }
 },
 "nbformat": 4,
 "nbformat_minor": 2
}
