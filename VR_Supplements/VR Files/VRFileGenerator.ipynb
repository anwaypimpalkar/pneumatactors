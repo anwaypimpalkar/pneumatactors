{
 "cells": [
  {
   "cell_type": "code",
   "execution_count": 1,
   "id": "f7b18fb4",
   "metadata": {},
   "outputs": [
    {
     "name": "stdout",
     "output_type": "stream",
     "text": [
      "Generated: output/U01_Pneumatactors_VR.csv\n",
      "Generated: output/U02_Pneumatactors_VR.csv\n",
      "Generated: output/U03_Pneumatactors_VR.csv\n",
      "Generated: output/U04_Pneumatactors_VR.csv\n",
      "Generated: output/U05_Pneumatactors_VR.csv\n",
      "Generated: output/U06_Pneumatactors_VR.csv\n",
      "Generated: output/U07_Pneumatactors_VR.csv\n",
      "Generated: output/U08_Pneumatactors_VR.csv\n",
      "Generated: output/U09_Pneumatactors_VR.csv\n",
      "Generated: output/U10_Pneumatactors_VR.csv\n",
      "Generated: output/U11_Pneumatactors_VR.csv\n",
      "Generated: output/U12_Pneumatactors_VR.csv\n",
      "Generated: output/U13_Pneumatactors_VR.csv\n",
      "Generated: output/U14_Pneumatactors_VR.csv\n",
      "Generated: output/U15_Pneumatactors_VR.csv\n",
      "Generated: output/U16_Pneumatactors_VR.csv\n",
      "Generated: output/U17_Pneumatactors_VR.csv\n",
      "Generated: output/U18_Pneumatactors_VR.csv\n",
      "Generated: output/U19_Pneumatactors_VR.csv\n",
      "Generated: output/U20_Pneumatactors_VR.csv\n",
      "Generated: output/U21_Pneumatactors_VR.csv\n",
      "Generated: output/U22_Pneumatactors_VR.csv\n",
      "Generated: output/U23_Pneumatactors_VR.csv\n",
      "Generated: output/U24_Pneumatactors_VR.csv\n"
     ]
    }
   ],
   "source": [
    "import csv\n",
    "import itertools\n",
    "import os\n",
    "\n",
    "def generate_counterbalanced_csvs(output_dir=\"output\", num_users=24):\n",
    "    os.makedirs(output_dir, exist_ok=True)\n",
    "    \n",
    "    users = [f\"U{str(i+1).zfill(2)}\" for i in range(num_users)]\n",
    "    map_permutations = list(itertools.permutations([\"Map 1\", \"Map 2\", \"Map 3\"]))\n",
    "    num_maps = len(map_permutations)\n",
    "\n",
    "    for i, user in enumerate(users):\n",
    "        perm = map_permutations[i % num_maps]\n",
    "        filename = os.path.join(output_dir, f\"{user}_Pneumatactors_VR.csv\")\n",
    "\n",
    "        rows = []\n",
    "        # Trial 1: Familiarization\n",
    "        rows.append([\"1\", \"Explore!\", \"Map 0\", \"30\"])\n",
    "\n",
    "        trial_counter = 2\n",
    "        for map_name in perm:\n",
    "            for _ in range(3):  # 3 repetitions\n",
    "                rows.append([str(trial_counter), map_name, map_name, \"90\"])\n",
    "                trial_counter += 1\n",
    "\n",
    "        # Trials 11–13: No Feedback\n",
    "        for _ in range(3):\n",
    "            rows.append([str(trial_counter), \"No Feedback\", \"Map 0\", \"90\"])\n",
    "            trial_counter += 1\n",
    "\n",
    "        with open(filename, mode='w', newline='') as file:\n",
    "            writer = csv.writer(file, delimiter=',')\n",
    "            writer.writerow([\"Trial\", \"Phase\", \"Feedback\", \"Duration\"])\n",
    "            writer.writerows(rows)\n",
    "\n",
    "        print(f\"Generated: {filename}\")\n",
    "\n",
    "# Example usage\n",
    "generate_counterbalanced_csvs()"
   ]
  }
 ],
 "metadata": {
  "kernelspec": {
   "display_name": "rehab-eng",
   "language": "python",
   "name": "python3"
  },
  "language_info": {
   "codemirror_mode": {
    "name": "ipython",
    "version": 3
   },
   "file_extension": ".py",
   "mimetype": "text/x-python",
   "name": "python",
   "nbconvert_exporter": "python",
   "pygments_lexer": "ipython3",
   "version": "3.8.18"
  }
 },
 "nbformat": 4,
 "nbformat_minor": 5
}
