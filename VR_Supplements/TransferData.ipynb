{
 "cells": [
  {
   "cell_type": "code",
   "execution_count": 9,
   "id": "d849878e",
   "metadata": {},
   "outputs": [
    {
     "name": "stdout",
     "output_type": "stream",
     "text": [
      "Attempting to pull logs from /sdcard/Android/data/com.HAMR.Pneumatactors_VR/files/Logs to QuestLogs...\n",
      "Logs pulled successfully to QuestLogs\n"
     ]
    }
   ],
   "source": [
    "import subprocess\n",
    "import os\n",
    "\n",
    "def pull_vr_logs(destination=os.path.expanduser(\"QuestLogs\"),\n",
    "                 package_name=\"com.HAMR.Pneumatactors_VR\",\n",
    "                 log_folder=\"Logs\"):\n",
    "    \"\"\"\n",
    "    Pulls VR log files from the specified Android app's data directory to the local machine.\n",
    "\n",
    "    Parameters:\n",
    "    - destination (str): Local path to copy logs to.\n",
    "    - package_name (str): The Android package name of the app.\n",
    "    - log_folder (str): The folder inside the app's `files/` directory containing logs.\n",
    "\n",
    "    Returns:\n",
    "    - str: Message indicating success or error.\n",
    "    \"\"\"\n",
    "    device_path = f\"/sdcard/Android/data/{package_name}/files/{log_folder}\"\n",
    "    \n",
    "    print(f\"Attempting to pull logs from {device_path} to {destination}...\")\n",
    "\n",
    "    try:\n",
    "        os.makedirs(destination, exist_ok=True)\n",
    "        result = subprocess.run([\"adb\", \"pull\", device_path, destination],\n",
    "                                capture_output=True, text=True, check=True)\n",
    "        return f\"Logs pulled successfully to {destination}\"\n",
    "    except subprocess.CalledProcessError as e:\n",
    "        return f\"ADB pull failed:\\n{e.stderr.strip()}\"\n",
    "    except FileNotFoundError:\n",
    "        return \"ADB not found. Make sure it is installed and added to PATH.\"\n",
    "\n",
    "# Example usage\n",
    "if __name__ == \"__main__\":\n",
    "    message = pull_vr_logs()\n",
    "    print(message)"
   ]
  }
 ],
 "metadata": {
  "kernelspec": {
   "display_name": "rehab-eng",
   "language": "python",
   "name": "python3"
  },
  "language_info": {
   "codemirror_mode": {
    "name": "ipython",
    "version": 3
   },
   "file_extension": ".py",
   "mimetype": "text/x-python",
   "name": "python",
   "nbconvert_exporter": "python",
   "pygments_lexer": "ipython3",
   "version": "3.8.18"
  }
 },
 "nbformat": 4,
 "nbformat_minor": 5
}
