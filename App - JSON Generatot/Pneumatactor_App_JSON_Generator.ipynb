{
 "cells": [
  {
   "cell_type": "code",
   "execution_count": 1,
   "id": "903ca7c7",
   "metadata": {},
   "outputs": [
    {
     "name": "stdout",
     "output_type": "stream",
     "text": [
      "✅ Saved 80 trials to generated_trials/u01_trials.json\n",
      "✅ Saved 80 trials to generated_trials/u02_trials.json\n",
      "✅ Saved 80 trials to generated_trials/u03_trials.json\n",
      "✅ Saved 80 trials to generated_trials/u04_trials.json\n",
      "✅ Saved 80 trials to generated_trials/u05_trials.json\n",
      "✅ Saved 80 trials to generated_trials/u06_trials.json\n",
      "✅ Saved 80 trials to generated_trials/u07_trials.json\n",
      "✅ Saved 80 trials to generated_trials/u08_trials.json\n",
      "✅ Saved 80 trials to generated_trials/u09_trials.json\n",
      "✅ Saved 80 trials to generated_trials/u10_trials.json\n",
      "✅ Saved 80 trials to generated_trials/u11_trials.json\n",
      "✅ Saved 80 trials to generated_trials/u12_trials.json\n",
      "✅ Saved 80 trials to generated_trials/u13_trials.json\n",
      "✅ Saved 80 trials to generated_trials/u14_trials.json\n",
      "✅ Saved 80 trials to generated_trials/u15_trials.json\n",
      "✅ Saved 80 trials to generated_trials/u16_trials.json\n",
      "✅ Saved 80 trials to generated_trials/u17_trials.json\n",
      "✅ Saved 80 trials to generated_trials/u18_trials.json\n",
      "✅ Saved 80 trials to generated_trials/u19_trials.json\n",
      "✅ Saved 80 trials to generated_trials/u20_trials.json\n",
      "✅ Saved 80 trials to generated_trials/u21_trials.json\n",
      "✅ Saved 80 trials to generated_trials/u22_trials.json\n",
      "✅ Saved 80 trials to generated_trials/u23_trials.json\n",
      "✅ Saved 80 trials to generated_trials/u24_trials.json\n"
     ]
    }
   ],
   "source": [
    "import json\n",
    "import random\n",
    "import os\n",
    "\n",
    "n = 24 # Number of participants\n",
    "\n",
    "random.seed(19)  # For reproducibility\n",
    "\n",
    "def generate_trials(repetitions=5):\n",
    "    \"\"\"Generate 4x4 grid combinations repeated in randomized blocks.\"\"\"\n",
    "    trials = []\n",
    "    trial_num = 1\n",
    "    for _ in range(repetitions):\n",
    "        block = [(v, p) for v in range(4) for p in range(4)]\n",
    "        random.shuffle(block)\n",
    "        for v, p in block:\n",
    "            trials.append({\n",
    "                \"trial_number\": trial_num,\n",
    "                \"vibration_delivered\": v,\n",
    "                \"pressure_delivered\": p\n",
    "            })\n",
    "            trial_num += 1\n",
    "    return trials\n",
    "\n",
    "def save_trials_for_participant(user_id, output_dir=\".\"):\n",
    "    \"\"\"Save randomized trials for a given user like 'u01'.\"\"\"\n",
    "    trials = generate_trials()\n",
    "    filename = os.path.join(output_dir, f\"{user_id}_trials.json\")\n",
    "    with open(filename, \"w\") as f:\n",
    "        json.dump(trials, f, indent=2)\n",
    "    print(f\"✅ Saved {len(trials)} trials to {filename}\")\n",
    "\n",
    "# 🔁 Generate for multiple users\n",
    "output_directory = \"generated_trials\"\n",
    "os.makedirs(output_directory, exist_ok=True)\n",
    "\n",
    "for i in range(1, n + 1):\n",
    "    user_id = f\"u{i:02d}\"\n",
    "    save_trials_for_participant(user_id, output_dir=output_directory)\n"
   ]
  }
 ],
 "metadata": {
  "kernelspec": {
   "display_name": "bionics-lab",
   "language": "python",
   "name": "python3"
  },
  "language_info": {
   "codemirror_mode": {
    "name": "ipython",
    "version": 3
   },
   "file_extension": ".py",
   "mimetype": "text/x-python",
   "name": "python",
   "nbconvert_exporter": "python",
   "pygments_lexer": "ipython3",
   "version": "3.11.9"
  }
 },
 "nbformat": 4,
 "nbformat_minor": 5
}
